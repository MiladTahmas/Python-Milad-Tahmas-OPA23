{
 "cells": [
  {
   "cell_type": "markdown",
   "metadata": {},
   "source": [
    "# Grunduppgift\n",
    "1. Läs in datan och spara i lämplig datastruktur\n",
    "2. Plotta alla punkterna med olika färger i samma fönster\n",
    "3. Läs in testpunkter\n",
    "4. Beräkna avstånd mellan testpunkt och övriga testpunkter\n",
    "5. Närmaste punkten tillhör Pichu?"
   ]
  },
  {
   "cell_type": "code",
   "execution_count": 6,
   "metadata": {},
   "outputs": [],
   "source": [
    "import numpy as np\n",
    "import matplotlib.pyplot as plt"
   ]
  },
  {
   "cell_type": "code",
   "execution_count": 9,
   "metadata": {},
   "outputs": [],
   "source": [
    "## Läs in data\n",
    "\n",
    "pichu_data = open(\"data/pichu.txt\")\n",
    "pikachu_data = open(\"data/pikachu.txt\")\n",
    "test_data = open(\"data/test_points.txt\")"
   ]
  }
 ],
 "metadata": {
  "kernelspec": {
   "display_name": "venv",
   "language": "python",
   "name": "python3"
  },
  "language_info": {
   "codemirror_mode": {
    "name": "ipython",
    "version": 3
   },
   "file_extension": ".py",
   "mimetype": "text/x-python",
   "name": "python",
   "nbconvert_exporter": "python",
   "pygments_lexer": "ipython3",
   "version": "3.11.7"
  }
 },
 "nbformat": 4,
 "nbformat_minor": 2
}
