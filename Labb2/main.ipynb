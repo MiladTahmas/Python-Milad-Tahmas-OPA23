{
 "cells": [
  {
   "cell_type": "code",
   "execution_count": 21,
   "metadata": {},
   "outputs": [],
   "source": [
    "import pandas as pd\n",
    "import seaborn as sns\n",
    "import matplotlib.pyplot as plt\n",
    "import numpy as np\n",
    "import os"
   ]
  },
  {
   "cell_type": "markdown",
   "metadata": {},
   "source": [
    "# Data paths"
   ]
  },
  {
   "cell_type": "code",
   "execution_count": 74,
   "metadata": {},
   "outputs": [],
   "source": [
    "data_paths = {\n",
    "    'riket2023_åk9_np': \"data/riket2023_åk9_np.xlsx\",\n",
    "    'betyg_o_prov_riksnivå': \"data/betyg_o_prov_riksnivå.xlsx\",\n",
    "}\n",
    "\n",
    "nationwide2023_grade9_nt = data_paths['riket2023_åk9_np']\n",
    "\n",
    "grades_and_tests_national_level = data_paths['betyg_o_prov_riksnivå']\n"
   ]
  }
 ],
 "metadata": {
  "kernelspec": {
   "display_name": "venv",
   "language": "python",
   "name": "python3"
  },
  "language_info": {
   "name": "python",
   "version": "3.11.7"
  }
 },
 "nbformat": 4,
 "nbformat_minor": 2
}
